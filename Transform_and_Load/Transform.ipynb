{
  "nbformat": 4,
  "nbformat_minor": 0,
  "metadata": {
    "colab": {
      "name": "Transform.ipynb",
      "provenance": [],
      "collapsed_sections": []
    },
    "kernelspec": {
      "name": "python3",
      "display_name": "Python 3"
    },
    "accelerator": "GPU"
  },
  "cells": [
    {
      "cell_type": "code",
      "metadata": {
        "id": "f9KisUMc8D7e"
      },
      "source": [
        "import pandas as pd\r\n",
        "import numpy as np\r\n",
        "import glob\r\n",
        "import time                \r\n",
        "import calendar\r\n",
        "import datetime\r\n",
        "import os\r\n",
        "import difflib\r\n",
        "import re\r\n",
        "pd.options.mode.chained_assignment = None"
      ],
      "execution_count": 1,
      "outputs": []
    },
    {
      "cell_type": "code",
      "metadata": {
        "colab": {
          "base_uri": "https://localhost:8080/"
        },
        "id": "5ZR9LMa21hTj",
        "outputId": "be06b365-7548-40e0-d4c2-ab3cd5df26e0"
      },
      "source": [
        "from google.colab import drive\r\n",
        "drive.mount('/content/drive')"
      ],
      "execution_count": 2,
      "outputs": [
        {
          "output_type": "stream",
          "text": [
            "Drive already mounted at /content/drive; to attempt to forcibly remount, call drive.mount(\"/content/drive\", force_remount=True).\n"
          ],
          "name": "stdout"
        }
      ]
    },
    {
      "cell_type": "code",
      "metadata": {
        "id": "gRsjg4JT10Cs"
      },
      "source": [
        "!unzip -uq \"/content/drive/My Drive/DDBB_Resultados.zip\" -d \"/content\"\r\n",
        "!unzip -uq \"/content/drive/My Drive/DDBB_Tabla.zip\" -d \"/content\""
      ],
      "execution_count": 2,
      "outputs": []
    },
    {
      "cell_type": "code",
      "metadata": {
        "id": "1r6OCUlP9d8p"
      },
      "source": [
        "def carga_df(dir_resultados, dir_tabla):\r\n",
        "    df_list = []\r\n",
        "    for data_file in sorted(glob.glob(f'{dir_resultados}/*')):\r\n",
        "        df = pd.read_excel(data_file, usecols=lambda x: 'Unnamed' not in x)\r\n",
        "        df_list.append(df)\r\n",
        "    df_resultado = pd.concat(df_list, axis=0, ignore_index=True)\r\n",
        "    regex_fecha = re.compile('(\\d+\\s\\w+\\s\\d+)')\r\n",
        "    df_resultado['Fecha'] = df_resultado['Fecha'].str.extract(regex_fecha)\r\n",
        "    df_list.clear()\r\n",
        "\r\n",
        "    for data_file in sorted(glob.glob(f'{dir_tabla}/*')):\r\n",
        "        df = pd.read_excel(data_file, usecols=lambda x: 'Unnamed' not in x)\r\n",
        "        df_list.append(df)\r\n",
        "    df_tabla = pd.concat(df_list, axis=0, ignore_index=True)\r\n",
        "    return df_resultado, df_tabla"
      ],
      "execution_count": 3,
      "outputs": []
    },
    {
      "cell_type": "code",
      "metadata": {
        "id": "IJ62Poo39fvq"
      },
      "source": [
        "def comprobar_equipos(df_resultado, df_tabla):\r\n",
        "    if set(df_resultado.Equipo_Local) != set(df_tabla.Equipo):\r\n",
        "        diff_res = sorted(set(df_resultado.Equipo_Local) - set(df_tabla.Equipo))\r\n",
        "        diff_tab = sorted(set(df_tabla.Equipo) - set(df_resultado.Equipo_Local))\r\n",
        "        list_remove = []\r\n",
        "        for equipo in diff_tab:\r\n",
        "            equipo_sustituir = difflib.get_close_matches(equipo, diff_res)\r\n",
        "            if len(equipo_sustituir) == 1:\r\n",
        "                list_remove.append(equipo)\r\n",
        "                df_tabla['Equipo'] = df_tabla['Equipo'].replace(equipo, equipo_sustituir[0])\r\n",
        "                diff_res.remove(equipo_sustituir[0])\r\n",
        "        diff_tab = list(filter(lambda x: x not in set(list_remove), diff_tab))\r\n",
        "\r\n",
        "        if diff_res:\r\n",
        "            print(f'El dataframe de tabla tiene los equipos\\n{diff_res}\\nque el dataframe de partidos no tiene')\r\n",
        "        if diff_tab:\r\n",
        "            print(f'El dataframe de partidos tiene los equipos\\n{diff_tab}\\nque el dataframe de tabla no tiene')\r\n",
        "    return diff_res, diff_tab"
      ],
      "execution_count": 4,
      "outputs": []
    },
    {
      "cell_type": "code",
      "metadata": {
        "id": "R6iI3KTi9sy3"
      },
      "source": [
        "def generar_keys(df_res, df_tab):\r\n",
        "    df_tab['Key'] = df_tab.apply(lambda x:f\"{x['Equipo']}-{x['Jornada']}-{x['Año']}-{x['Liga']}\", axis=1)\r\n",
        "    df_tab['Key_Año_Liga'] = df_tab.apply(lambda x:f\"{x['Año']}-{x['Liga']}\", axis=1)\r\n",
        "\r\n",
        "    df_res['Key_Local'] = df_res.apply(lambda x:f\"{x['Equipo_Local']}-{x['Jornada']}-{x['Año']}-{x['Liga']}\", axis=1)\r\n",
        "    df_res['Key_Visitante'] = df_res.apply(lambda x:f\"{x['Equipo_Visitante']}-{x['Jornada']}-{x['Año']}-{x['Liga']}\", axis=1)\r\n",
        "    df_res['Key_Año_Liga'] = df_res.apply(lambda x:f\"{x['Año']}-{x['Liga']}\", axis=1)\r\n",
        "\r\n",
        "    num_partidos = df_res.loc[:,['Key_Año_Liga','Jornada']].groupby(by=['Key_Año_Liga']).max()\r\n",
        "    num_equipos = df_res.loc[:,['Key_Año_Liga','Equipo_Local']].groupby(by=['Key_Año_Liga']).nunique()\r\n",
        "    dict_n_partidos = num_partidos.to_dict()['Jornada']\r\n",
        "    dict_n_equipos = num_equipos.to_dict()['Equipo_Local']\r\n",
        "\r\n",
        "    mask = num_partidos.values == (2*(num_equipos-1)).values\r\n",
        "    keys_aceptables = num_partidos[mask].index\r\n",
        "    df_res = df_res[df_res['Key_Año_Liga'].isin(keys_aceptables)]\r\n",
        "    df_tab = df_tab[df_tab['Key_Año_Liga'].isin(keys_aceptables)]\r\n",
        "\r\n",
        "    return df_res, df_tab, dict_n_partidos, dict_n_equipos"
      ],
      "execution_count": 5,
      "outputs": []
    },
    {
      "cell_type": "code",
      "metadata": {
        "id": "xZnU4Pmnl7eH"
      },
      "source": [
        "def extraer_resultado_numerico(resultado):\r\n",
        "  regex = resultado.str.extract(r'(\\d+)-(\\d+)')\r\n",
        "  goles_local = regex[0]\r\n",
        "  goles_visitante = regex[1]\r\n",
        "  resultado_local = goles_local.lt(goles_visitante) * (-1) + goles_local.gt(goles_visitante) * 1\r\n",
        "  resultado_visitante = goles_local.lt(goles_visitante) * 1 + goles_local.gt(goles_visitante) * (-1)\r\n",
        "  resultado_local_1x2 = goles_local.lt(goles_visitante) * 1 + goles_local.eq(goles_visitante) * 2 + goles_local.gt(goles_visitante) * 3\r\n",
        "  return resultado_local, resultado_visitante, resultado_local_1x2"
      ],
      "execution_count": 6,
      "outputs": []
    },
    {
      "cell_type": "code",
      "metadata": {
        "id": "C2yfv6xOENOj"
      },
      "source": [
        "def extraer_rachas(df):\r\n",
        "  df['Racha_Total_Local'] = None\r\n",
        "  df['Racha_Total_Visitante'] = None\r\n",
        "  df['Racha_Local'] = None\r\n",
        "  df['Racha_Visitante'] = None\r\n",
        "  for equipo in set(df['Equipo_Local']):\r\n",
        "    print(equipo)\r\n",
        "    local_df = df[(df['Equipo_Local'] == equipo)]\r\n",
        "    visitante_df = df[(df['Equipo_Visitante'] == equipo)]\r\n",
        "    equipo_df = df[(df['Equipo_Local'] == equipo) | (df['Equipo_Visitante'] == equipo)]\r\n",
        "    for liga in equipo_df['Liga'].unique():\r\n",
        "      for año in equipo_df['Año'].unique():\r\n",
        "        subset = equipo_df[(equipo_df['Año'] == año) & (equipo_df['Liga'] == liga)].sort_values(by=['Jornada'])[['Equipo_Local', 'Equipo_Visitante', 'Valor_Numerico_Resultado_Local', 'Valor_Numerico_Resultado_Visitante']]\r\n",
        "        subset_local = local_df[(local_df['Año'] == año) & (local_df['Liga'] == liga)].sort_values(by=['Jornada'])['Valor_Numerico_Resultado_Local']\r\n",
        "        subset_visitante = visitante_df[(visitante_df['Año'] == año) & (visitante_df['Liga'] == liga)].sort_values(by=['Jornada'])['Valor_Numerico_Resultado_Visitante']\r\n",
        "        \r\n",
        "        racha = (subset['Equipo_Local'] == equipo).multiply(subset['Valor_Numerico_Resultado_Local']) + (subset['Equipo_Visitante'] == equipo).multiply(subset['Valor_Numerico_Resultado_Visitante'])\r\n",
        "        racha_valor = racha.shift(1, fill_value=0) + 0.5 * racha.shift(2, fill_value=0) + 0.2 * racha.shift(3, fill_value=0)\r\n",
        "        racha_local_valor = subset_local.shift(1, fill_value=0) + 0.5 * subset_local.shift(2, fill_value=0) + 0.2 * subset_local.shift(3, fill_value=0)\r\n",
        "        racha_visitante_valor = subset_visitante.shift(1, fill_value=0) + 0.5 * subset_visitante.shift(2, fill_value=0) + 0.2 * subset_visitante.shift(3, fill_value=0)\r\n",
        "\r\n",
        "        racha_total_local = pd.Series(racha_valor[subset['Equipo_Local'] == equipo], name = 'Racha_Total_Local')\r\n",
        "        racha_total_visitante = pd.Series(racha_valor[subset['Equipo_Visitante'] == equipo], name = 'Racha_Total_Visitante')\r\n",
        "        racha_column_local = pd.Series(racha_local_valor, name = 'Racha_Local')\r\n",
        "        racha_column_visitante = pd.Series(racha_visitante_valor, name = 'Racha_Visitante')\r\n",
        "\r\n",
        "        df.update(racha_total_local)\r\n",
        "        df.update(racha_total_visitante)\r\n",
        "        df.update(racha_column_local)\r\n",
        "        df.update(racha_column_visitante)\r\n",
        "\r\n",
        "        df.sort_index()\r\n",
        "\r\n",
        "  return df"
      ],
      "execution_count": 15,
      "outputs": []
    },
    {
      "cell_type": "code",
      "metadata": {
        "id": "jJcYt53ULORl"
      },
      "source": [
        "def norm_and_select(df):\r\n",
        "  list_init_position = ['Posicion_Local','Posicion_Visitante']\r\n",
        "  list_init_goles = ['Goles_a_favor_Local', 'Goles_a_favor_Visitante', 'Goles_en_contra_Local', 'Goles_en_contra_Visitante']\r\n",
        "\r\n",
        "  list_final_position = ['Posicion_Local_Norm','Posicion_Visitante_Norm']\r\n",
        "  list_final_goles = ['Goles_a_Favor_Local_Norm','Goles_en_contra_Local_Norm', 'Goles_a_Favor_Visitante_Norm','Goles_en_contra_Visitantes_Norm']\r\n",
        "\r\n",
        "  list_init = ['1x2'] +  list_init_position + list_init_goles + ['Numero_Participantes', 'Total_Jornadas', \r\n",
        "               'Jornada', 'Racha_Local', 'Racha_Visitante', 'Racha_Total_Local', 'Racha_Total_Visitante']\r\n",
        "  list_final = ['1x2'] + list_final_position + list_final_goles + ['Jornada_Normalizado',\r\n",
        "                'Racha_Local','Racha_Visitante', 'Racha_Total_Local', 'Racha_Total_Visitante']\r\n",
        "\r\n",
        "  df_init = df[list_init]\r\n",
        "  df_init = df_init[df_init['Jornada'] != 1]\r\n",
        "  df_init[list_final_position] = df_init[list_init_position].divide(df_init['Numero_Participantes'], axis = 0)\r\n",
        "  df_init[list_final_goles] = df_init[list_init_goles].divide(df_init['Jornada'], axis = 0)\r\n",
        "  df_init['Jornada_Normalizado'] = df_init['Jornada'].divide(df['Total_Jornadas'], axis = 0)\r\n",
        "\r\n",
        "  df_final = df_init[list_final]\r\n",
        "  return df_final"
      ],
      "execution_count": 8,
      "outputs": []
    },
    {
      "cell_type": "code",
      "metadata": {
        "id": "l7iy0C509tmj",
        "colab": {
          "base_uri": "https://localhost:8080/"
        },
        "outputId": "de08d4d6-24b0-44f0-a35e-ab0c972f0ec4"
      },
      "source": [
        "df_resultado, df_tabla = carga_df('DDBB_Resultados', 'DDBB_Tabla')\r\n",
        "diff_res, diff_tab = comprobar_equipos(df_resultado, df_tabla)"
      ],
      "execution_count": 9,
      "outputs": [
        {
          "output_type": "stream",
          "text": [
            "El dataframe de tabla tiene los equipos\n",
            "['Alianza Petrolera', 'Deportes Tolima', 'Deportivo Cali', 'Fortaleza', 'Independiente Medellin', 'Junior', 'Millonarios', 'Patriotas Boyacá', 'Rionegro Águilas']\n",
            "que el dataframe de partidos no tiene\n"
          ],
          "name": "stdout"
        }
      ]
    },
    {
      "cell_type": "code",
      "metadata": {
        "id": "kXEI-YT0hxVN"
      },
      "source": [
        "df_resultado_filter = df_resultado[~df_resultado['Equipo_Local'].isin(diff_res)]\r\n",
        "df_tabla_filter = df_tabla[~df_tabla['Equipo'].isin(diff_tab)]"
      ],
      "execution_count": 10,
      "outputs": []
    },
    {
      "cell_type": "code",
      "metadata": {
        "id": "JrjDHibMfb-3"
      },
      "source": [
        "Resultado, Tabla, dict_n_partidos, dict_n_equipos = generar_keys(df_resultado_filter, df_tabla_filter)\r\n",
        "Resultado['Numero_Participantes'] = Resultado['Key_Año_Liga'].map(dict_n_equipos)\r\n",
        "Resultado['Total_Jornadas'] = Resultado['Key_Año_Liga'].map(dict_n_partidos)"
      ],
      "execution_count": 11,
      "outputs": []
    },
    {
      "cell_type": "code",
      "metadata": {
        "id": "MrIu2O0RAXsH"
      },
      "source": [
        "columnas_dict = ['Posicion', 'Goles_a_favor', 'Goles_en_contra']\r\n",
        "dict_key = Tabla[['Key'] + columnas_dict].set_index('Key').to_dict()\r\n",
        "\r\n",
        "for columna in columnas_dict:\r\n",
        "  Resultado[columna + '_Local'] = Resultado['Key_Local'].map(dict_key[columna])\r\n",
        "  Resultado[columna + '_Visitante'] = Resultado['Key_Visitante'].map(dict_key[columna])\r\n",
        "  Resultado.dropna(subset=[columna + '_Local', columna + '_Visitante'], inplace=True)\r\n",
        "  Resultado[[columna + '_Local', columna + '_Visitante']] = Resultado[[columna + '_Local', columna + '_Visitante']].astype('int64')"
      ],
      "execution_count": 12,
      "outputs": []
    },
    {
      "cell_type": "code",
      "metadata": {
        "id": "sKS-ipzUpCD_"
      },
      "source": [
        "Resultado['Valor_Numerico_Resultado_Local'], Resultado['Valor_Numerico_Resultado_Visitante'], Resultado['1x2']  = extraer_resultado_numerico(Resultado['Resultado'])"
      ],
      "execution_count": 13,
      "outputs": []
    },
    {
      "cell_type": "code",
      "metadata": {
        "id": "fRBINZi_3vyB",
        "colab": {
          "base_uri": "https://localhost:8080/"
        },
        "outputId": "f3ba1c00-e51c-4a7d-ea45-194dc6802ce9"
      },
      "source": [
        "Resultado = extraer_rachas(Resultado)"
      ],
      "execution_count": null,
      "outputs": [
        {
          "output_type": "stream",
          "text": [
            "RB Leipzig\n",
            "Birmingham City\n",
            "Fermana\n",
            "Havelse\n",
            "Modena\n",
            "Piacenza\n",
            "TuS Koblenz\n",
            "Valencia\n",
            "Algeciras\n",
            "Xerez\n",
            "Terrassa FC\n",
            "Cremonese\n",
            "Siegen Sportfreunde \n",
            "Pordenone\n",
            "Empoli\n",
            "Montpellier\n",
            "Ingolstadt 04\n",
            "Acireale\n",
            "Cannes\n"
          ],
          "name": "stdout"
        }
      ]
    },
    {
      "cell_type": "code",
      "metadata": {
        "id": "5T58u0k-kcBH"
      },
      "source": [
        "Resultado = norm_and_select(Resultado)"
      ],
      "execution_count": 25,
      "outputs": []
    },
    {
      "cell_type": "code",
      "metadata": {
        "id": "-Dn-9vrpITGJ"
      },
      "source": [
        "Resultado.to_excel('/content/drive/My Drive/Datos.xlsx')"
      ],
      "execution_count": null,
      "outputs": []
    }
  ]
}