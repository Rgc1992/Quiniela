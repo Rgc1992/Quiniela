{
  "nbformat": 4,
  "nbformat_minor": 0,
  "metadata": {
    "colab": {
      "name": "Transform.ipynb",
      "provenance": [],
      "collapsed_sections": []
    },
    "kernelspec": {
      "name": "python3",
      "display_name": "Python 3",
      "language": "python"
    }
  },
  "cells": [
    {
      "cell_type": "code",
      "metadata": {
        "id": "f9KisUMc8D7e"
      },
      "source": [
        "import pandas as pd\r\n",
        "import numpy as np\r\n",
        "import glob\r\n",
        "import time                \r\n",
        "import calendar\r\n",
        "import datetime\r\n",
        "import os\r\n",
        "import difflib\r\n",
        "import re\r\n",
        "pd.options.mode.chained_assignment = None"
      ],
      "execution_count": 1,
      "outputs": []
    },
    {
      "cell_type": "code",
      "metadata": {
        "id": "1r6OCUlP9d8p"
      },
      "source": [
        "def carga_df(dir_resultados, dir_tabla):\r\n",
        "    df_list = []\r\n",
        "    for data_file in sorted(glob.glob(f'{dir_resultados}/*')):\r\n",
        "        df = pd.read_excel(data_file, usecols=lambda x: 'Unnamed' not in x)\r\n",
        "        df_list.append(df)\r\n",
        "    df_resultado = pd.concat(df_list, axis=0, ignore_index=True)\r\n",
        "    regex_fecha = re.compile('(\\d+\\s\\w+\\s\\d+)')\r\n",
        "    df_resultado['Fecha'] = df_resultado['Fecha'].str.extract(regex_fecha)\r\n",
        "    df_list.clear()\r\n",
        "\r\n",
        "    for data_file in sorted(glob.glob(f'{dir_tabla}/*')):\r\n",
        "        df = pd.read_excel(data_file, usecols=lambda x: 'Unnamed' not in x)\r\n",
        "        df_list.append(df)\r\n",
        "    df_tabla = pd.concat(df_list, axis=0, ignore_index=True)\r\n",
        "    return df_resultado, df_tabla"
      ],
      "execution_count": 2,
      "outputs": []
    },
    {
      "cell_type": "code",
      "metadata": {
        "id": "IJ62Poo39fvq"
      },
      "source": [
        "def comprobar_equipos(df_resultado, df_tabla):\r\n",
        "    if set(df_resultado.Equipo_Local) != set(df_tabla.Equipo):\r\n",
        "        diff_res = sorted(set(df_resultado.Equipo_Local) - set(df_tabla.Equipo))\r\n",
        "        diff_tab = sorted(set(df_tabla.Equipo) - set(df_resultado.Equipo_Local))\r\n",
        "        list_remove = []\r\n",
        "        for equipo in diff_tab:\r\n",
        "            equipo_sustituir = difflib.get_close_matches(equipo, diff_res)\r\n",
        "            if len(equipo_sustituir) == 1:\r\n",
        "                list_remove.append(equipo)\r\n",
        "                df_tabla['Equipo'] = df_tabla['Equipo'].replace(equipo, equipo_sustituir[0])\r\n",
        "                diff_res.remove(equipo_sustituir[0])\r\n",
        "        diff_tab = list(filter(lambda x: x not in set(list_remove), diff_tab))\r\n",
        "\r\n",
        "        if diff_res:\r\n",
        "            print(f'El dataframe de tabla tiene los equipos\\n{diff_res}\\nque el dataframe de partidos no tiene')\r\n",
        "        if diff_tab:\r\n",
        "            print(f'El dataframe de partidos tiene los equipos\\n{diff_tab}\\nque el dataframe de tabla no tiene')\r\n",
        "    return diff_res, diff_tab"
      ],
      "execution_count": 3,
      "outputs": []
    },
    {
      "cell_type": "code",
      "metadata": {
        "id": "R6iI3KTi9sy3"
      },
      "source": [
        "def generar_keys(df_res, df_tab):\r\n",
        "    df_tab['Key'] = df_tab.apply(lambda x:f\"{x['Equipo']}-{x['Jornada']}-{x['Año']}-{x['Liga']}\", axis=1)\r\n",
        "    df_tab['Key_Año_Liga'] = df_tab.apply(lambda x:f\"{x['Año']}-{x['Liga']}\", axis=1)\r\n",
        "\r\n",
        "    df_res['Key_Local'] = df_res.apply(lambda x:f\"{x['Equipo_Local']}-{x['Jornada']}-{x['Año']}-{x['Liga']}\", axis=1)\r\n",
        "    df_res['Key_Visitante'] = df_res.apply(lambda x:f\"{x['Equipo_Visitante']}-{x['Jornada']}-{x['Año']}-{x['Liga']}\", axis=1)\r\n",
        "    df_res['Key_Año_Liga'] = df_res.apply(lambda x:f\"{x['Año']}-{x['Liga']}\", axis=1)\r\n",
        "\r\n",
        "    num_partidos = df_res.loc[:,['Key_Año_Liga','Jornada']].groupby(by=['Key_Año_Liga']).max()\r\n",
        "    num_equipos = df_res.loc[:,['Key_Año_Liga','Equipo_Local']].groupby(by=['Key_Año_Liga']).nunique()\r\n",
        "    dict_n_partidos = num_partidos.to_dict()['Jornada']\r\n",
        "    dict_n_equipos = num_equipos.to_dict()['Equipo_Local']\r\n",
        "\r\n",
        "    mask = num_partidos.values == (2*(num_equipos-1)).values\r\n",
        "    keys_aceptables = num_partidos[mask].index\r\n",
        "    df_res = df_res[df_res['Key_Año_Liga'].isin(keys_aceptables)]\r\n",
        "    df_tab = df_tab[df_tab['Key_Año_Liga'].isin(keys_aceptables)]\r\n",
        "\r\n",
        "    return df_res, df_tab, dict_n_partidos, dict_n_equipos"
      ],
      "execution_count": 4,
      "outputs": []
    },
    {
      "cell_type": "code",
      "metadata": {
        "id": "xZnU4Pmnl7eH"
      },
      "source": [
        "def extraer_resultado_numerico(resultado):\r\n",
        "  regex = resultado.str.extract(r'(\\d+)-(\\d+)')\r\n",
        "  goles_local = regex[0]\r\n",
        "  goles_visitante = regex[1]\r\n",
        "  resultado_local = goles_local.lt(goles_visitante) * (-1) + goles_local.gt(goles_visitante) * 1\r\n",
        "  resultado_visitante = goles_local.lt(goles_visitante) * 1 + goles_local.gt(goles_visitante) * (-1)\r\n",
        "  resultado_local_1x2 = goles_local.lt(goles_visitante) * 1 + goles_local.eq(goles_visitante) * 2 + goles_local.gt(goles_visitante) * 3\r\n",
        "  return resultado_local, resultado_visitante, resultado_local_1x2"
      ],
      "execution_count": 5,
      "outputs": []
    },
    {
      "cell_type": "code",
      "metadata": {
        "id": "l7iy0C509tmj",
        "colab": {
          "base_uri": "https://localhost:8080/"
        },
        "outputId": "6bc81b26-9151-4ee1-892f-95ae36e4a99b"
      },
      "source": [
        "df_resultado, df_tabla = carga_df('../Extract_Data/DDBB_Resultados', '../Extract_Data/DDBB_Tabla')\r\n",
        "diff_res, diff_tab = comprobar_equipos(df_resultado, df_tabla)"
      ],
      "execution_count": 7,
      "outputs": [
        {
          "output_type": "stream",
          "name": "stdout",
          "text": [
            "El dataframe de tabla tiene los equipos\n['Alianza Petrolera', 'Deportes Tolima', 'Deportivo Cali', 'Fortaleza', 'Independiente Medellin', 'Junior', 'Millonarios', 'Patriotas Boyacá', 'Rionegro Águilas']\nque el dataframe de partidos no tiene\n"
          ]
        }
      ]
    },
    {
      "cell_type": "code",
      "metadata": {
        "id": "kXEI-YT0hxVN"
      },
      "source": [
        "df_resultado_filter = df_resultado[~df_resultado['Equipo_Local'].isin(diff_res)]\r\n",
        "df_tabla_filter = df_tabla[~df_tabla['Equipo'].isin(diff_tab)]"
      ],
      "execution_count": 8,
      "outputs": []
    },
    {
      "cell_type": "code",
      "metadata": {
        "id": "JrjDHibMfb-3"
      },
      "source": [
        "Resultado, Tabla, dict_n_partidos, dict_n_equipos = generar_keys(df_resultado_filter, df_tabla_filter)\r\n",
        "Resultado['Numero_Participantes'] = Resultado['Key_Año_Liga'].map(dict_n_equipos)\r\n",
        "Resultado['Total_Jornadas'] = Resultado['Key_Año_Liga'].map(dict_n_partidos)"
      ],
      "execution_count": 9,
      "outputs": []
    },
    {
      "cell_type": "code",
      "metadata": {
        "id": "MrIu2O0RAXsH"
      },
      "source": [
        "columnas_dict = ['Posicion', 'Goles_a_favor', 'Goles_en_contra']\r\n",
        "dict_key = Tabla[['Key'] + columnas_dict].set_index('Key').to_dict()\r\n",
        "\r\n",
        "for columna in columnas_dict:\r\n",
        "  Resultado[columna + '_Local'] = Resultado['Key_Local'].map(dict_key[columna])\r\n",
        "  Resultado[columna + '_Visitante'] = Resultado['Key_Visitante'].map(dict_key[columna])\r\n",
        "  Resultado.dropna(subset=[columna + '_Local', columna + '_Visitante'], inplace=True)\r\n",
        "  Resultado[[columna + '_Local', columna + '_Visitante']] = Resultado[[columna + '_Local', columna + '_Visitante']].astype('int64')"
      ],
      "execution_count": 10,
      "outputs": []
    },
    {
      "cell_type": "code",
      "metadata": {
        "id": "sKS-ipzUpCD_"
      },
      "source": [
        "Resultado['Valor_Numerico_Resultado_Local'], Resultado['Valor_Numerico_Resultado_Visitante'], Resultado['1x2']  = extraer_resultado_numerico(Resultado['Resultado'])"
      ],
      "execution_count": 11,
      "outputs": []
    },
    {
      "cell_type": "code",
      "metadata": {
        "id": "fRBINZi_3vyB"
      },
      "source": [
        "Resultado['Racha_Total_Local'] = None\r\n",
        "Resultado['Racha_Total_Visitante'] = None\r\n",
        "for equipo in set(Resultado['Equipo_Local']):\r\n",
        "  equipo_df = Resultado[(Resultado['Equipo_Local'] == equipo) | (Resultado['Equipo_Visitante'] == equipo)]\r\n",
        "  for liga in equipo_df['Liga'].unique():\r\n",
        "    for año in equipo_df['Año'].unique():\r\n",
        "      subset = equipo_df[(equipo_df['Año'] == año) & (equipo_df['Liga'] == liga)].sort_values(by=['Jornada'])[['Equipo_Local', 'Equipo_Visitante', 'Valor_Numerico_Resultado_Local', 'Valor_Numerico_Resultado_Visitante', 'Racha_Total_Local', 'Racha_Total_Visitante']]\r\n",
        "      racha = (subset['Equipo_Local'] == equipo).multiply(subset['Valor_Numerico_Resultado_Local']) + (subset['Equipo_Visitante'] == equipo).multiply(subset['Valor_Numerico_Resultado_Visitante'])\r\n",
        "      racha_valor = racha.shift(1, fill_value=0) + 0.5 * racha.shift(2, fill_value=0) + 0.2 * racha.shift(3, fill_value=0)\r\n",
        "      racha_column_local = pd.Series(racha_valor[subset['Equipo_Local'] == equipo], name = 'Racha_Total_Local')\r\n",
        "      racha_column_visitante = pd.Series(racha_valor[subset['Equipo_Visitante'] == equipo], name = 'Racha_Total_Visitante')\r\n",
        "      Resultado.update(racha_column_local)\r\n",
        "      Resultado.update(racha_column_visitante)"
      ],
      "execution_count": 12,
      "outputs": []
    },
    {
      "cell_type": "code",
      "metadata": {
        "id": "qopkLrRaiInq"
      },
      "source": [
        "Resultado"
      ],
      "execution_count": 13,
      "outputs": [
        {
          "output_type": "execute_result",
          "data": {
            "text/plain": [
              "        Equipo_Local      Equipo_Visitante Resultado      Fecha   Año  \\\n",
              "2760        Millwall       Southend United       3-1  13 Ago 94  1995   \n",
              "2761      Luton Town  West Bromwich Albion       1-1  13 Ago 94  1995   \n",
              "2762      Portsmouth          Notts County       2-1  13 Ago 94  1995   \n",
              "2763      Stoke City       Tranmere Rovers       1-0  13 Ago 94  1995   \n",
              "2764        Barnsley          Derby County       2-1  13 Ago 94  1995   \n",
              "...              ...                   ...       ...        ...   ...   \n",
              "62829          Elche           Real Oviedo       2-1  20 Jul 20  2020   \n",
              "62830          Cádiz              Albacete       0-1  20 Jul 20  2020   \n",
              "62831        Almería                Málaga       0-0  20 Jul 20  2020   \n",
              "62832  Real Zaragoza          Ponferradina       2-1  20 Jul 20  2020   \n",
              "62833      Deportivo           Fuenlabrada       2-1  07 Ago 20  2020   \n",
              "\n",
              "       Jornada          Liga                       Key_Local  \\\n",
              "2760         1  championship    Millwall-1-1995-championship   \n",
              "2761         1  championship  Luton Town-1-1995-championship   \n",
              "2762         1  championship  Portsmouth-1-1995-championship   \n",
              "2763         1  championship  Stoke City-1-1995-championship   \n",
              "2764         1  championship    Barnsley-1-1995-championship   \n",
              "...        ...           ...                             ...   \n",
              "62829       42       segunda           Elche-42-2020-segunda   \n",
              "62830       42       segunda           Cádiz-42-2020-segunda   \n",
              "62831       42       segunda         Almería-42-2020-segunda   \n",
              "62832       42       segunda   Real Zaragoza-42-2020-segunda   \n",
              "62833       42       segunda       Deportivo-42-2020-segunda   \n",
              "\n",
              "                                  Key_Visitante       Key_Año_Liga  ...  \\\n",
              "2760        Southend United-1-1995-championship  1995-championship  ...   \n",
              "2761   West Bromwich Albion-1-1995-championship  1995-championship  ...   \n",
              "2762           Notts County-1-1995-championship  1995-championship  ...   \n",
              "2763        Tranmere Rovers-1-1995-championship  1995-championship  ...   \n",
              "2764           Derby County-1-1995-championship  1995-championship  ...   \n",
              "...                                         ...                ...  ...   \n",
              "62829               Real Oviedo-42-2020-segunda       2020-segunda  ...   \n",
              "62830                  Albacete-42-2020-segunda       2020-segunda  ...   \n",
              "62831                    Málaga-42-2020-segunda       2020-segunda  ...   \n",
              "62832              Ponferradina-42-2020-segunda       2020-segunda  ...   \n",
              "62833               Fuenlabrada-42-2020-segunda       2020-segunda  ...   \n",
              "\n",
              "       Posicion_Visitante  Goles_a_favor_Local  Goles_a_favor_Visitante  \\\n",
              "2760                   20                    3                        1   \n",
              "2761                   16                    1                        1   \n",
              "2762                   17                    2                        1   \n",
              "2763                   23                    1                        0   \n",
              "2764                   16                    2                        1   \n",
              "...                   ...                  ...                      ...   \n",
              "62829                  15                   52                       49   \n",
              "62830                  17                   50                       36   \n",
              "62831                  14                   62                       35   \n",
              "62832                  18                   59                       45   \n",
              "62833                   8                   43                       47   \n",
              "\n",
              "       Goles_en_contra_Local  Goles_en_contra_Visitante  \\\n",
              "2760                       1                          3   \n",
              "2761                       1                          1   \n",
              "2762                       1                          2   \n",
              "2763                       0                          1   \n",
              "2764                       1                          2   \n",
              "...                      ...                        ...   \n",
              "62829                     44                         53   \n",
              "62830                     39                         46   \n",
              "62831                     43                         33   \n",
              "62832                     53                         50   \n",
              "62833                     60                         40   \n",
              "\n",
              "       Valor_Numerico_Resultado_Local  Valor_Numerico_Resultado_Visitante  \\\n",
              "2760                                1                                  -1   \n",
              "2761                                0                                   0   \n",
              "2762                                1                                  -1   \n",
              "2763                                1                                  -1   \n",
              "2764                                1                                  -1   \n",
              "...                               ...                                 ...   \n",
              "62829                               1                                  -1   \n",
              "62830                              -1                                   1   \n",
              "62831                               0                                   0   \n",
              "62832                               1                                  -1   \n",
              "62833                               1                                  -1   \n",
              "\n",
              "       1x2  Racha_Total_Local  Racha_Total_Visitante  \n",
              "2760     3                  0                      0  \n",
              "2761     2                  0                      0  \n",
              "2762     3                  0                      0  \n",
              "2763     3                  0                      0  \n",
              "2764     3                  0                      0  \n",
              "...    ...                ...                    ...  \n",
              "62829    3               -0.7                    1.7  \n",
              "62830    1               -1.3                    0.5  \n",
              "62831    2               -0.7                    0.7  \n",
              "62832    3               -1.5                    0.3  \n",
              "62833    3               -1.7                    1.7  \n",
              "\n",
              "[58212 rows x 23 columns]"
            ],
            "text/html": "<div>\n<style scoped>\n    .dataframe tbody tr th:only-of-type {\n        vertical-align: middle;\n    }\n\n    .dataframe tbody tr th {\n        vertical-align: top;\n    }\n\n    .dataframe thead th {\n        text-align: right;\n    }\n</style>\n<table border=\"1\" class=\"dataframe\">\n  <thead>\n    <tr style=\"text-align: right;\">\n      <th></th>\n      <th>Equipo_Local</th>\n      <th>Equipo_Visitante</th>\n      <th>Resultado</th>\n      <th>Fecha</th>\n      <th>Año</th>\n      <th>Jornada</th>\n      <th>Liga</th>\n      <th>Key_Local</th>\n      <th>Key_Visitante</th>\n      <th>Key_Año_Liga</th>\n      <th>...</th>\n      <th>Posicion_Visitante</th>\n      <th>Goles_a_favor_Local</th>\n      <th>Goles_a_favor_Visitante</th>\n      <th>Goles_en_contra_Local</th>\n      <th>Goles_en_contra_Visitante</th>\n      <th>Valor_Numerico_Resultado_Local</th>\n      <th>Valor_Numerico_Resultado_Visitante</th>\n      <th>1x2</th>\n      <th>Racha_Total_Local</th>\n      <th>Racha_Total_Visitante</th>\n    </tr>\n  </thead>\n  <tbody>\n    <tr>\n      <th>2760</th>\n      <td>Millwall</td>\n      <td>Southend United</td>\n      <td>3-1</td>\n      <td>13 Ago 94</td>\n      <td>1995</td>\n      <td>1</td>\n      <td>championship</td>\n      <td>Millwall-1-1995-championship</td>\n      <td>Southend United-1-1995-championship</td>\n      <td>1995-championship</td>\n      <td>...</td>\n      <td>20</td>\n      <td>3</td>\n      <td>1</td>\n      <td>1</td>\n      <td>3</td>\n      <td>1</td>\n      <td>-1</td>\n      <td>3</td>\n      <td>0</td>\n      <td>0</td>\n    </tr>\n    <tr>\n      <th>2761</th>\n      <td>Luton Town</td>\n      <td>West Bromwich Albion</td>\n      <td>1-1</td>\n      <td>13 Ago 94</td>\n      <td>1995</td>\n      <td>1</td>\n      <td>championship</td>\n      <td>Luton Town-1-1995-championship</td>\n      <td>West Bromwich Albion-1-1995-championship</td>\n      <td>1995-championship</td>\n      <td>...</td>\n      <td>16</td>\n      <td>1</td>\n      <td>1</td>\n      <td>1</td>\n      <td>1</td>\n      <td>0</td>\n      <td>0</td>\n      <td>2</td>\n      <td>0</td>\n      <td>0</td>\n    </tr>\n    <tr>\n      <th>2762</th>\n      <td>Portsmouth</td>\n      <td>Notts County</td>\n      <td>2-1</td>\n      <td>13 Ago 94</td>\n      <td>1995</td>\n      <td>1</td>\n      <td>championship</td>\n      <td>Portsmouth-1-1995-championship</td>\n      <td>Notts County-1-1995-championship</td>\n      <td>1995-championship</td>\n      <td>...</td>\n      <td>17</td>\n      <td>2</td>\n      <td>1</td>\n      <td>1</td>\n      <td>2</td>\n      <td>1</td>\n      <td>-1</td>\n      <td>3</td>\n      <td>0</td>\n      <td>0</td>\n    </tr>\n    <tr>\n      <th>2763</th>\n      <td>Stoke City</td>\n      <td>Tranmere Rovers</td>\n      <td>1-0</td>\n      <td>13 Ago 94</td>\n      <td>1995</td>\n      <td>1</td>\n      <td>championship</td>\n      <td>Stoke City-1-1995-championship</td>\n      <td>Tranmere Rovers-1-1995-championship</td>\n      <td>1995-championship</td>\n      <td>...</td>\n      <td>23</td>\n      <td>1</td>\n      <td>0</td>\n      <td>0</td>\n      <td>1</td>\n      <td>1</td>\n      <td>-1</td>\n      <td>3</td>\n      <td>0</td>\n      <td>0</td>\n    </tr>\n    <tr>\n      <th>2764</th>\n      <td>Barnsley</td>\n      <td>Derby County</td>\n      <td>2-1</td>\n      <td>13 Ago 94</td>\n      <td>1995</td>\n      <td>1</td>\n      <td>championship</td>\n      <td>Barnsley-1-1995-championship</td>\n      <td>Derby County-1-1995-championship</td>\n      <td>1995-championship</td>\n      <td>...</td>\n      <td>16</td>\n      <td>2</td>\n      <td>1</td>\n      <td>1</td>\n      <td>2</td>\n      <td>1</td>\n      <td>-1</td>\n      <td>3</td>\n      <td>0</td>\n      <td>0</td>\n    </tr>\n    <tr>\n      <th>...</th>\n      <td>...</td>\n      <td>...</td>\n      <td>...</td>\n      <td>...</td>\n      <td>...</td>\n      <td>...</td>\n      <td>...</td>\n      <td>...</td>\n      <td>...</td>\n      <td>...</td>\n      <td>...</td>\n      <td>...</td>\n      <td>...</td>\n      <td>...</td>\n      <td>...</td>\n      <td>...</td>\n      <td>...</td>\n      <td>...</td>\n      <td>...</td>\n      <td>...</td>\n      <td>...</td>\n    </tr>\n    <tr>\n      <th>62829</th>\n      <td>Elche</td>\n      <td>Real Oviedo</td>\n      <td>2-1</td>\n      <td>20 Jul 20</td>\n      <td>2020</td>\n      <td>42</td>\n      <td>segunda</td>\n      <td>Elche-42-2020-segunda</td>\n      <td>Real Oviedo-42-2020-segunda</td>\n      <td>2020-segunda</td>\n      <td>...</td>\n      <td>15</td>\n      <td>52</td>\n      <td>49</td>\n      <td>44</td>\n      <td>53</td>\n      <td>1</td>\n      <td>-1</td>\n      <td>3</td>\n      <td>-0.7</td>\n      <td>1.7</td>\n    </tr>\n    <tr>\n      <th>62830</th>\n      <td>Cádiz</td>\n      <td>Albacete</td>\n      <td>0-1</td>\n      <td>20 Jul 20</td>\n      <td>2020</td>\n      <td>42</td>\n      <td>segunda</td>\n      <td>Cádiz-42-2020-segunda</td>\n      <td>Albacete-42-2020-segunda</td>\n      <td>2020-segunda</td>\n      <td>...</td>\n      <td>17</td>\n      <td>50</td>\n      <td>36</td>\n      <td>39</td>\n      <td>46</td>\n      <td>-1</td>\n      <td>1</td>\n      <td>1</td>\n      <td>-1.3</td>\n      <td>0.5</td>\n    </tr>\n    <tr>\n      <th>62831</th>\n      <td>Almería</td>\n      <td>Málaga</td>\n      <td>0-0</td>\n      <td>20 Jul 20</td>\n      <td>2020</td>\n      <td>42</td>\n      <td>segunda</td>\n      <td>Almería-42-2020-segunda</td>\n      <td>Málaga-42-2020-segunda</td>\n      <td>2020-segunda</td>\n      <td>...</td>\n      <td>14</td>\n      <td>62</td>\n      <td>35</td>\n      <td>43</td>\n      <td>33</td>\n      <td>0</td>\n      <td>0</td>\n      <td>2</td>\n      <td>-0.7</td>\n      <td>0.7</td>\n    </tr>\n    <tr>\n      <th>62832</th>\n      <td>Real Zaragoza</td>\n      <td>Ponferradina</td>\n      <td>2-1</td>\n      <td>20 Jul 20</td>\n      <td>2020</td>\n      <td>42</td>\n      <td>segunda</td>\n      <td>Real Zaragoza-42-2020-segunda</td>\n      <td>Ponferradina-42-2020-segunda</td>\n      <td>2020-segunda</td>\n      <td>...</td>\n      <td>18</td>\n      <td>59</td>\n      <td>45</td>\n      <td>53</td>\n      <td>50</td>\n      <td>1</td>\n      <td>-1</td>\n      <td>3</td>\n      <td>-1.5</td>\n      <td>0.3</td>\n    </tr>\n    <tr>\n      <th>62833</th>\n      <td>Deportivo</td>\n      <td>Fuenlabrada</td>\n      <td>2-1</td>\n      <td>07 Ago 20</td>\n      <td>2020</td>\n      <td>42</td>\n      <td>segunda</td>\n      <td>Deportivo-42-2020-segunda</td>\n      <td>Fuenlabrada-42-2020-segunda</td>\n      <td>2020-segunda</td>\n      <td>...</td>\n      <td>8</td>\n      <td>43</td>\n      <td>47</td>\n      <td>60</td>\n      <td>40</td>\n      <td>1</td>\n      <td>-1</td>\n      <td>3</td>\n      <td>-1.7</td>\n      <td>1.7</td>\n    </tr>\n  </tbody>\n</table>\n<p>58212 rows × 23 columns</p>\n</div>"
          },
          "metadata": {},
          "execution_count": 13
        }
      ]
    },
    {
      "cell_type": "code",
      "execution_count": null,
      "metadata": {},
      "outputs": [],
      "source": []
    }
  ]
}