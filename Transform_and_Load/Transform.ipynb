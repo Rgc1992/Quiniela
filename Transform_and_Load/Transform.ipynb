{
  "nbformat": 4,
  "nbformat_minor": 0,
  "metadata": {
    "colab": {
      "name": "Transform.ipynb",
      "provenance": [],
      "collapsed_sections": []
    },
    "kernelspec": {
      "name": "python3",
      "display_name": "Python 3"
    }
  },
  "cells": [
    {
      "cell_type": "code",
      "metadata": {
        "id": "f9KisUMc8D7e"
      },
      "source": [
        "import pandas as pd\r\n",
        "import numpy as np\r\n",
        "import glob\r\n",
        "import time                \r\n",
        "import calendar\r\n",
        "import datetime\r\n",
        "import os\r\n",
        "import difflib\r\n",
        "import re\r\n",
        "pd.options.mode.chained_assignment = None"
      ],
      "execution_count": 1,
      "outputs": []
    },
    {
      "cell_type": "code",
      "metadata": {
        "id": "1r6OCUlP9d8p"
      },
      "source": [
        "def carga_df(dir_resultados, dir_tabla):\r\n",
        "    df_list = []\r\n",
        "    for data_file in sorted(glob.glob(f'{dir_resultados}/*')):\r\n",
        "        df = pd.read_excel(data_file, usecols=lambda x: 'Unnamed' not in x)\r\n",
        "        df_list.append(df)\r\n",
        "    df_resultado = pd.concat(df_list, axis=0, ignore_index=True)\r\n",
        "    regex_fecha = re.compile('(\\d+\\s\\w+\\s\\d+)')\r\n",
        "    df_resultado['Fecha'] = df_resultado['Fecha'].str.extract(regex_fecha)\r\n",
        "    df_list.clear()\r\n",
        "\r\n",
        "    for data_file in sorted(glob.glob(f'{dir_tabla}/*')):\r\n",
        "        df = pd.read_excel(data_file, usecols=lambda x: 'Unnamed' not in x)\r\n",
        "        df_list.append(df)\r\n",
        "    df_tabla = pd.concat(df_list, axis=0, ignore_index=True)\r\n",
        "    return df_resultado, df_tabla"
      ],
      "execution_count": 3,
      "outputs": []
    },
    {
      "cell_type": "code",
      "metadata": {
        "id": "IJ62Poo39fvq"
      },
      "source": [
        "def comprobar_equipos(df_resultado, df_tabla):\r\n",
        "    if set(df_resultado.Equipo_Local) != set(df_tabla.Equipo):\r\n",
        "        diff_res = sorted(set(df_resultado.Equipo_Local) - set(df_tabla.Equipo))\r\n",
        "        diff_tab = sorted(set(df_tabla.Equipo) - set(df_resultado.Equipo_Local))\r\n",
        "        list_remove = []\r\n",
        "        for equipo in diff_tab:\r\n",
        "            equipo_sustituir = difflib.get_close_matches(equipo, diff_res)\r\n",
        "            if len(equipo_sustituir) == 1:\r\n",
        "                list_remove.append(equipo)\r\n",
        "                df_tabla['Equipo'] = df_tabla['Equipo'].replace(equipo, equipo_sustituir[0])\r\n",
        "                diff_res.remove(equipo_sustituir[0])\r\n",
        "        diff_tab = list(filter(lambda x: x not in set(list_remove), diff_tab))\r\n",
        "\r\n",
        "        if diff_res:\r\n",
        "            print(f'El dataframe de tabla tiene los equipos\\n{diff_res}\\nque el dataframe de partidos no tiene')\r\n",
        "        if diff_tab:\r\n",
        "            print(f'El dataframe de partidos tiene los equipos\\n{diff_tab}\\nque el dataframe de tabla no tiene')\r\n",
        "    return diff_res, diff_tab"
      ],
      "execution_count": 4,
      "outputs": []
    },
    {
      "cell_type": "code",
      "metadata": {
        "id": "R6iI3KTi9sy3"
      },
      "source": [
        "def generar_keys(df_res, df_tab):\r\n",
        "    df_tab['Key'] = df_tab.apply(lambda x:f\"{x['Equipo']}-{x['Jornada']}-{x['Año']}-{x['Liga']}\", axis=1)\r\n",
        "    df_tab['Key_Año_Liga'] = df_tab.apply(lambda x:f\"{x['Año']}-{x['Liga']}\", axis=1)\r\n",
        "\r\n",
        "    df_res['Key_Local'] = df_res.apply(lambda x:f\"{x['Equipo_Local']}-{x['Jornada']}-{x['Año']}-{x['Liga']}\", axis=1)\r\n",
        "    df_res['Key_Visitante'] = df_res.apply(lambda x:f\"{x['Equipo_Visitante']}-{x['Jornada']}-{x['Año']}-{x['Liga']}\", axis=1)\r\n",
        "    df_res['Key_Año_Liga'] = df_res.apply(lambda x:f\"{x['Año']}-{x['Liga']}\", axis=1)\r\n",
        "\r\n",
        "    num_partidos = df_res.loc[:,['Key_Año_Liga','Jornada']].groupby(by=['Key_Año_Liga']).max()\r\n",
        "    num_equipos = df_res.loc[:,['Key_Año_Liga','Equipo_Local']].groupby(by=['Key_Año_Liga']).nunique()\r\n",
        "    dict_n_partidos = num_partidos.to_dict()['Jornada']\r\n",
        "    dict_n_equipos = num_equipos.to_dict()['Equipo_Local']\r\n",
        "\r\n",
        "    mask = num_partidos.values == (2*(num_equipos-1)).values\r\n",
        "    keys_aceptables = num_partidos[mask].index\r\n",
        "    df_res = df_res[df_res['Key_Año_Liga'].isin(keys_aceptables)]\r\n",
        "    df_tab = df_tab[df_tab['Key_Año_Liga'].isin(keys_aceptables)]\r\n",
        "\r\n",
        "    return df_res, df_tab, dict_n_partidos, dict_n_equipos"
      ],
      "execution_count": 5,
      "outputs": []
    },
    {
      "cell_type": "code",
      "metadata": {
        "id": "xZnU4Pmnl7eH"
      },
      "source": [
        "def extraer_resultado_numerico(resultado):\r\n",
        "  regex = resultado.str.extract(r'(\\d+)-(\\d+)')\r\n",
        "  goles_local = regex[0]\r\n",
        "  goles_visitante = regex[1]\r\n",
        "  resultado_local = goles_local.lt(goles_visitante) * (-1) + goles_local.gt(goles_visitante) * 1\r\n",
        "  resultado_visitante = goles_local.lt(goles_visitante) * 1 + goles_local.gt(goles_visitante) * (-1)\r\n",
        "  resultado_local_1x2 = goles_local.lt(goles_visitante) * 1 + goles_local.eq(goles_visitante) * 2 + goles_local.gt(goles_visitante) * 3\r\n",
        "  return resultado_local, resultado_visitante, resultado_local_1x2"
      ],
      "execution_count": 6,
      "outputs": []
    },
    {
      "cell_type": "code",
      "metadata": {
        "id": "l7iy0C509tmj",
        "colab": {
          "base_uri": "https://localhost:8080/"
        },
        "outputId": "6bc81b26-9151-4ee1-892f-95ae36e4a99b"
      },
      "source": [
        "df_resultado, df_tabla = carga_df('../Extract_Data/DDBB_Resultados', '../Extract_Data/DDBB_Tabla')\r\n",
        "diff_res, diff_tab = comprobar_equipos(df_resultado, df_tabla)"
      ],
      "execution_count": 7,
      "outputs": [
        {
          "output_type": "stream",
          "text": [
            "El dataframe de tabla tiene los equipos\n",
            "['Alianza Petrolera', 'Deportes Tolima', 'Deportivo Cali', 'Fortaleza', 'Independiente Medellin', 'Junior', 'Millonarios', 'Patriotas Boyacá', 'Rionegro Águilas']\n",
            "que el dataframe de partidos no tiene\n"
          ],
          "name": "stdout"
        }
      ]
    },
    {
      "cell_type": "code",
      "metadata": {
        "id": "kXEI-YT0hxVN"
      },
      "source": [
        "df_resultado_filter = df_resultado[~df_resultado['Equipo_Local'].isin(diff_res)]\r\n",
        "df_tabla_filter = df_tabla[~df_tabla['Equipo'].isin(diff_tab)]"
      ],
      "execution_count": 8,
      "outputs": []
    },
    {
      "cell_type": "code",
      "metadata": {
        "id": "JrjDHibMfb-3"
      },
      "source": [
        "Resultado, Tabla, dict_n_partidos, dict_n_equipos = generar_keys(df_resultado_filter, df_tabla_filter)\r\n",
        "Resultado['Numero_Participantes'] = Resultado['Key_Año_Liga'].map(dict_n_equipos)\r\n",
        "Resultado['Total_Jornadas'] = Resultado['Key_Año_Liga'].map(dict_n_partidos)"
      ],
      "execution_count": 9,
      "outputs": []
    },
    {
      "cell_type": "code",
      "metadata": {
        "id": "MrIu2O0RAXsH"
      },
      "source": [
        "columnas_dict = ['Posicion', 'Goles_a_favor', 'Goles_en_contra']\r\n",
        "dict_key = Tabla[['Key'] + columnas_dict].set_index('Key').to_dict()\r\n",
        "\r\n",
        "for columna in columnas_dict:\r\n",
        "  Resultado[columna + '_Local'] = Resultado['Key_Local'].map(dict_key[columna])\r\n",
        "  Resultado[columna + '_Visitante'] = Resultado['Key_Visitante'].map(dict_key[columna])\r\n",
        "  Resultado.dropna(subset=[columna + '_Local', columna + '_Visitante'], inplace=True)\r\n",
        "  Resultado[[columna + '_Local', columna + '_Visitante']] = Resultado[[columna + '_Local', columna + '_Visitante']].astype('int64')"
      ],
      "execution_count": 10,
      "outputs": []
    },
    {
      "cell_type": "code",
      "metadata": {
        "id": "sKS-ipzUpCD_"
      },
      "source": [
        "Resultado['Valor_Numerico_Resultado_Local'], Resultado['Valor_Numerico_Resultado_Visitante'], Resultado['1x2']  = extraer_resultado_numerico(Resultado['Resultado'])"
      ],
      "execution_count": 11,
      "outputs": []
    },
    {
      "cell_type": "code",
      "metadata": {
        "id": "fRBINZi_3vyB"
      },
      "source": [
        "Resultado['Racha_Total_Local'] = None\r\n",
        "Resultado['Racha_Total_Visitante'] = None\r\n",
        "for equipo in set(Resultado['Equipo_Local']):\r\n",
        "  equipo_df = Resultado[(Resultado['Equipo_Local'] == equipo) | (Resultado['Equipo_Visitante'] == equipo)]\r\n",
        "  for liga in equipo_df['Liga'].unique():\r\n",
        "    for año in equipo_df['Año'].unique():\r\n",
        "      subset = equipo_df[(equipo_df['Año'] == año) & (equipo_df['Liga'] == liga)].sort_values(by=['Jornada'])[['Equipo_Local', 'Equipo_Visitante', 'Valor_Numerico_Resultado_Local', 'Valor_Numerico_Resultado_Visitante', 'Racha_Total_Local', 'Racha_Total_Visitante']]\r\n",
        "      racha = (subset['Equipo_Local'] == equipo).multiply(subset['Valor_Numerico_Resultado_Local']) + (subset['Equipo_Visitante'] == equipo).multiply(subset['Valor_Numerico_Resultado_Visitante'])\r\n",
        "      racha_valor = racha.shift(1, fill_value=0) + 0.5 * racha.shift(2, fill_value=0) + 0.2 * racha.shift(3, fill_value=0)\r\n",
        "      racha_column_local = pd.Series(racha_valor[subset['Equipo_Local'] == equipo], name = 'Racha_Total_Local')\r\n",
        "      racha_column_visitante = pd.Series(racha_valor[subset['Equipo_Visitante'] == equipo], name = 'Racha_Total_Visitante')\r\n",
        "      Resultado.update(racha_column_local)\r\n",
        "      Resultado.update(racha_column_visitante)"
      ],
      "execution_count": 13,
      "outputs": []
    },
    {
      "cell_type": "code",
      "metadata": {
        "id": "qopkLrRaiInq"
      },
      "source": [
        ""
      ],
      "execution_count": null,
      "outputs": []
    }
  ]
}